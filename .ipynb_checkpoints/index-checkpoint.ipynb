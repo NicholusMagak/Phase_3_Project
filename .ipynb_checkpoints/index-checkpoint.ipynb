{
 "cells": [
  {
   "cell_type": "markdown",
   "id": "9f8151bb",
   "metadata": {},
   "source": [
    "### Phase 3 Project \n",
    "\n",
    "### by Nicholus Magak \n",
    "\n",
    "### Using CRISP-DM Methodology"
   ]
  },
  {
   "cell_type": "markdown",
   "id": "059a8528",
   "metadata": {},
   "source": [
    "## 1. Business Understanding"
   ]
  },
  {
   "cell_type": "markdown",
   "id": "1e7eaa0b",
   "metadata": {},
   "source": [
    "#### Premise:\n",
    "As the world struggles to vaccinate the global population against COVID-19, an understanding of how people’s backgrounds, opinions, and health behaviors are related to their personal vaccination patterns can provide guidance for future public health efforts. Your audience could be someone guiding those public health efforts."
   ]
  },
  {
   "cell_type": "markdown",
   "id": "0216ffd5",
   "metadata": {},
   "source": [
    "#### Desired outcome:\n",
    "Create a model that can accurately predict whether a person, based on their attributes given in the data both categorical and continuous is most likely given the seasonal flu (or depending if there is time, the H1N1) vaccine(s).\n",
    "\n",
    "Eventually, the prediction algorithm can be used in identifying people with potential illness to the seasonal flu and either prevent or have a concrete solution in place due to early detection."
   ]
  },
  {
   "cell_type": "markdown",
   "id": "0b239a57",
   "metadata": {},
   "source": [
    "## 2. Data Understanding\n",
    "\n",
    "This section aims at importing and descrbing the individual features within the dataset"
   ]
  },
  {
   "cell_type": "code",
   "execution_count": 1,
   "id": "bfc722cd",
   "metadata": {},
   "outputs": [],
   "source": [
    "# importing necessary libraries\n",
    "import pandas as pd\n",
    "import numpy as np\n",
    "from sklearn.pipeline import Pipeline\n",
    "from sklearn.model_selection import train_test_split\n",
    "import matplotlib.pyplot as plt\n",
    "from sklearn.model_selection import GridSearchCV\n",
    "from sklearn import metrics\n",
    "from sklearn.metrics import precision_score\n",
    "from sklearn.metrics import recall_score\n",
    "from sklearn.metrics import accuracy_score\n",
    "from sklearn.metrics import f1_score\n",
    "from sklearn.metrics import confusion_matrix, ConfusionMatrixDisplay"
   ]
  },
  {
   "cell_type": "code",
   "execution_count": 2,
   "id": "6a4e8703",
   "metadata": {},
   "outputs": [],
   "source": [
    "# Loading the data from the site\n",
    "# this is the X features of the dataset which describe a person's attributes\n",
    "train_data_df = pd.read_csv('data/training_set_features.csv')\n",
    "# print(train_data_df.head())\n",
    "\n",
    "# This dataframe contains the targets i.e y of the dataset\n",
    "train_labels_df = pd.read_csv('data/training_set_labels.csv')\n",
    "# print(train_labels_df.head())\n",
    "\n",
    "# Not necessary for now\n",
    "# validation_data_df = pd.read_csv('data/test_set_features.csv')\n",
    "# print(test_data_df.head())"
   ]
  },
  {
   "cell_type": "code",
   "execution_count": 55,
   "id": "157e10f6",
   "metadata": {},
   "outputs": [
    {
     "data": {
      "text/plain": [
       "(26707, 36)"
      ]
     },
     "execution_count": 55,
     "metadata": {},
     "output_type": "execute_result"
    }
   ],
   "source": [
    "train_data_df.shape"
   ]
  },
  {
   "cell_type": "code",
   "execution_count": 3,
   "id": "807337c8",
   "metadata": {},
   "outputs": [
    {
     "data": {
      "text/plain": [
       "Index(['respondent_id', 'h1n1_concern', 'h1n1_knowledge',\n",
       "       'behavioral_antiviral_meds', 'behavioral_avoidance',\n",
       "       'behavioral_face_mask', 'behavioral_wash_hands',\n",
       "       'behavioral_large_gatherings', 'behavioral_outside_home',\n",
       "       'behavioral_touch_face', 'doctor_recc_h1n1', 'doctor_recc_seasonal',\n",
       "       'chronic_med_condition', 'child_under_6_months', 'health_worker',\n",
       "       'health_insurance', 'opinion_h1n1_vacc_effective', 'opinion_h1n1_risk',\n",
       "       'opinion_h1n1_sick_from_vacc', 'opinion_seas_vacc_effective',\n",
       "       'opinion_seas_risk', 'opinion_seas_sick_from_vacc', 'age_group',\n",
       "       'education', 'race', 'sex', 'income_poverty', 'marital_status',\n",
       "       'rent_or_own', 'employment_status', 'hhs_geo_region', 'census_msa',\n",
       "       'household_adults', 'household_children', 'employment_industry',\n",
       "       'employment_occupation'],\n",
       "      dtype='object')"
      ]
     },
     "execution_count": 3,
     "metadata": {},
     "output_type": "execute_result"
    }
   ],
   "source": [
    "# the columns in the dataset\n",
    "train_data_df.columns"
   ]
  },
  {
   "cell_type": "code",
   "execution_count": 4,
   "id": "9a2da9cd",
   "metadata": {},
   "outputs": [
    {
     "data": {
      "text/html": [
       "<div>\n",
       "<style scoped>\n",
       "    .dataframe tbody tr th:only-of-type {\n",
       "        vertical-align: middle;\n",
       "    }\n",
       "\n",
       "    .dataframe tbody tr th {\n",
       "        vertical-align: top;\n",
       "    }\n",
       "\n",
       "    .dataframe thead th {\n",
       "        text-align: right;\n",
       "    }\n",
       "</style>\n",
       "<table border=\"1\" class=\"dataframe\">\n",
       "  <thead>\n",
       "    <tr style=\"text-align: right;\">\n",
       "      <th></th>\n",
       "      <th>respondent_id</th>\n",
       "      <th>h1n1_concern</th>\n",
       "      <th>h1n1_knowledge</th>\n",
       "      <th>behavioral_antiviral_meds</th>\n",
       "      <th>behavioral_avoidance</th>\n",
       "      <th>behavioral_face_mask</th>\n",
       "      <th>behavioral_wash_hands</th>\n",
       "      <th>behavioral_large_gatherings</th>\n",
       "      <th>behavioral_outside_home</th>\n",
       "      <th>behavioral_touch_face</th>\n",
       "      <th>...</th>\n",
       "      <th>health_worker</th>\n",
       "      <th>health_insurance</th>\n",
       "      <th>opinion_h1n1_vacc_effective</th>\n",
       "      <th>opinion_h1n1_risk</th>\n",
       "      <th>opinion_h1n1_sick_from_vacc</th>\n",
       "      <th>opinion_seas_vacc_effective</th>\n",
       "      <th>opinion_seas_risk</th>\n",
       "      <th>opinion_seas_sick_from_vacc</th>\n",
       "      <th>household_adults</th>\n",
       "      <th>household_children</th>\n",
       "    </tr>\n",
       "  </thead>\n",
       "  <tbody>\n",
       "    <tr>\n",
       "      <th>count</th>\n",
       "      <td>26707.000000</td>\n",
       "      <td>26615.000000</td>\n",
       "      <td>26591.000000</td>\n",
       "      <td>26636.000000</td>\n",
       "      <td>26499.000000</td>\n",
       "      <td>26688.000000</td>\n",
       "      <td>26665.000000</td>\n",
       "      <td>26620.00000</td>\n",
       "      <td>26625.000000</td>\n",
       "      <td>26579.000000</td>\n",
       "      <td>...</td>\n",
       "      <td>25903.000000</td>\n",
       "      <td>14433.00000</td>\n",
       "      <td>26316.000000</td>\n",
       "      <td>26319.000000</td>\n",
       "      <td>26312.000000</td>\n",
       "      <td>26245.000000</td>\n",
       "      <td>26193.000000</td>\n",
       "      <td>26170.000000</td>\n",
       "      <td>26458.000000</td>\n",
       "      <td>26458.000000</td>\n",
       "    </tr>\n",
       "    <tr>\n",
       "      <th>mean</th>\n",
       "      <td>13353.000000</td>\n",
       "      <td>1.618486</td>\n",
       "      <td>1.262532</td>\n",
       "      <td>0.048844</td>\n",
       "      <td>0.725612</td>\n",
       "      <td>0.068982</td>\n",
       "      <td>0.825614</td>\n",
       "      <td>0.35864</td>\n",
       "      <td>0.337315</td>\n",
       "      <td>0.677264</td>\n",
       "      <td>...</td>\n",
       "      <td>0.111918</td>\n",
       "      <td>0.87972</td>\n",
       "      <td>3.850623</td>\n",
       "      <td>2.342566</td>\n",
       "      <td>2.357670</td>\n",
       "      <td>4.025986</td>\n",
       "      <td>2.719162</td>\n",
       "      <td>2.118112</td>\n",
       "      <td>0.886499</td>\n",
       "      <td>0.534583</td>\n",
       "    </tr>\n",
       "    <tr>\n",
       "      <th>std</th>\n",
       "      <td>7709.791156</td>\n",
       "      <td>0.910311</td>\n",
       "      <td>0.618149</td>\n",
       "      <td>0.215545</td>\n",
       "      <td>0.446214</td>\n",
       "      <td>0.253429</td>\n",
       "      <td>0.379448</td>\n",
       "      <td>0.47961</td>\n",
       "      <td>0.472802</td>\n",
       "      <td>0.467531</td>\n",
       "      <td>...</td>\n",
       "      <td>0.315271</td>\n",
       "      <td>0.32530</td>\n",
       "      <td>1.007436</td>\n",
       "      <td>1.285539</td>\n",
       "      <td>1.362766</td>\n",
       "      <td>1.086565</td>\n",
       "      <td>1.385055</td>\n",
       "      <td>1.332950</td>\n",
       "      <td>0.753422</td>\n",
       "      <td>0.928173</td>\n",
       "    </tr>\n",
       "    <tr>\n",
       "      <th>min</th>\n",
       "      <td>0.000000</td>\n",
       "      <td>0.000000</td>\n",
       "      <td>0.000000</td>\n",
       "      <td>0.000000</td>\n",
       "      <td>0.000000</td>\n",
       "      <td>0.000000</td>\n",
       "      <td>0.000000</td>\n",
       "      <td>0.00000</td>\n",
       "      <td>0.000000</td>\n",
       "      <td>0.000000</td>\n",
       "      <td>...</td>\n",
       "      <td>0.000000</td>\n",
       "      <td>0.00000</td>\n",
       "      <td>1.000000</td>\n",
       "      <td>1.000000</td>\n",
       "      <td>1.000000</td>\n",
       "      <td>1.000000</td>\n",
       "      <td>1.000000</td>\n",
       "      <td>1.000000</td>\n",
       "      <td>0.000000</td>\n",
       "      <td>0.000000</td>\n",
       "    </tr>\n",
       "    <tr>\n",
       "      <th>25%</th>\n",
       "      <td>6676.500000</td>\n",
       "      <td>1.000000</td>\n",
       "      <td>1.000000</td>\n",
       "      <td>0.000000</td>\n",
       "      <td>0.000000</td>\n",
       "      <td>0.000000</td>\n",
       "      <td>1.000000</td>\n",
       "      <td>0.00000</td>\n",
       "      <td>0.000000</td>\n",
       "      <td>0.000000</td>\n",
       "      <td>...</td>\n",
       "      <td>0.000000</td>\n",
       "      <td>1.00000</td>\n",
       "      <td>3.000000</td>\n",
       "      <td>1.000000</td>\n",
       "      <td>1.000000</td>\n",
       "      <td>4.000000</td>\n",
       "      <td>2.000000</td>\n",
       "      <td>1.000000</td>\n",
       "      <td>0.000000</td>\n",
       "      <td>0.000000</td>\n",
       "    </tr>\n",
       "    <tr>\n",
       "      <th>50%</th>\n",
       "      <td>13353.000000</td>\n",
       "      <td>2.000000</td>\n",
       "      <td>1.000000</td>\n",
       "      <td>0.000000</td>\n",
       "      <td>1.000000</td>\n",
       "      <td>0.000000</td>\n",
       "      <td>1.000000</td>\n",
       "      <td>0.00000</td>\n",
       "      <td>0.000000</td>\n",
       "      <td>1.000000</td>\n",
       "      <td>...</td>\n",
       "      <td>0.000000</td>\n",
       "      <td>1.00000</td>\n",
       "      <td>4.000000</td>\n",
       "      <td>2.000000</td>\n",
       "      <td>2.000000</td>\n",
       "      <td>4.000000</td>\n",
       "      <td>2.000000</td>\n",
       "      <td>2.000000</td>\n",
       "      <td>1.000000</td>\n",
       "      <td>0.000000</td>\n",
       "    </tr>\n",
       "    <tr>\n",
       "      <th>75%</th>\n",
       "      <td>20029.500000</td>\n",
       "      <td>2.000000</td>\n",
       "      <td>2.000000</td>\n",
       "      <td>0.000000</td>\n",
       "      <td>1.000000</td>\n",
       "      <td>0.000000</td>\n",
       "      <td>1.000000</td>\n",
       "      <td>1.00000</td>\n",
       "      <td>1.000000</td>\n",
       "      <td>1.000000</td>\n",
       "      <td>...</td>\n",
       "      <td>0.000000</td>\n",
       "      <td>1.00000</td>\n",
       "      <td>5.000000</td>\n",
       "      <td>4.000000</td>\n",
       "      <td>4.000000</td>\n",
       "      <td>5.000000</td>\n",
       "      <td>4.000000</td>\n",
       "      <td>4.000000</td>\n",
       "      <td>1.000000</td>\n",
       "      <td>1.000000</td>\n",
       "    </tr>\n",
       "    <tr>\n",
       "      <th>max</th>\n",
       "      <td>26706.000000</td>\n",
       "      <td>3.000000</td>\n",
       "      <td>2.000000</td>\n",
       "      <td>1.000000</td>\n",
       "      <td>1.000000</td>\n",
       "      <td>1.000000</td>\n",
       "      <td>1.000000</td>\n",
       "      <td>1.00000</td>\n",
       "      <td>1.000000</td>\n",
       "      <td>1.000000</td>\n",
       "      <td>...</td>\n",
       "      <td>1.000000</td>\n",
       "      <td>1.00000</td>\n",
       "      <td>5.000000</td>\n",
       "      <td>5.000000</td>\n",
       "      <td>5.000000</td>\n",
       "      <td>5.000000</td>\n",
       "      <td>5.000000</td>\n",
       "      <td>5.000000</td>\n",
       "      <td>3.000000</td>\n",
       "      <td>3.000000</td>\n",
       "    </tr>\n",
       "  </tbody>\n",
       "</table>\n",
       "<p>8 rows × 24 columns</p>\n",
       "</div>"
      ],
      "text/plain": [
       "       respondent_id  h1n1_concern  h1n1_knowledge  behavioral_antiviral_meds  \\\n",
       "count   26707.000000  26615.000000    26591.000000               26636.000000   \n",
       "mean    13353.000000      1.618486        1.262532                   0.048844   \n",
       "std      7709.791156      0.910311        0.618149                   0.215545   \n",
       "min         0.000000      0.000000        0.000000                   0.000000   \n",
       "25%      6676.500000      1.000000        1.000000                   0.000000   \n",
       "50%     13353.000000      2.000000        1.000000                   0.000000   \n",
       "75%     20029.500000      2.000000        2.000000                   0.000000   \n",
       "max     26706.000000      3.000000        2.000000                   1.000000   \n",
       "\n",
       "       behavioral_avoidance  behavioral_face_mask  behavioral_wash_hands  \\\n",
       "count          26499.000000          26688.000000           26665.000000   \n",
       "mean               0.725612              0.068982               0.825614   \n",
       "std                0.446214              0.253429               0.379448   \n",
       "min                0.000000              0.000000               0.000000   \n",
       "25%                0.000000              0.000000               1.000000   \n",
       "50%                1.000000              0.000000               1.000000   \n",
       "75%                1.000000              0.000000               1.000000   \n",
       "max                1.000000              1.000000               1.000000   \n",
       "\n",
       "       behavioral_large_gatherings  behavioral_outside_home  \\\n",
       "count                  26620.00000             26625.000000   \n",
       "mean                       0.35864                 0.337315   \n",
       "std                        0.47961                 0.472802   \n",
       "min                        0.00000                 0.000000   \n",
       "25%                        0.00000                 0.000000   \n",
       "50%                        0.00000                 0.000000   \n",
       "75%                        1.00000                 1.000000   \n",
       "max                        1.00000                 1.000000   \n",
       "\n",
       "       behavioral_touch_face  ...  health_worker  health_insurance  \\\n",
       "count           26579.000000  ...   25903.000000       14433.00000   \n",
       "mean                0.677264  ...       0.111918           0.87972   \n",
       "std                 0.467531  ...       0.315271           0.32530   \n",
       "min                 0.000000  ...       0.000000           0.00000   \n",
       "25%                 0.000000  ...       0.000000           1.00000   \n",
       "50%                 1.000000  ...       0.000000           1.00000   \n",
       "75%                 1.000000  ...       0.000000           1.00000   \n",
       "max                 1.000000  ...       1.000000           1.00000   \n",
       "\n",
       "       opinion_h1n1_vacc_effective  opinion_h1n1_risk  \\\n",
       "count                 26316.000000       26319.000000   \n",
       "mean                      3.850623           2.342566   \n",
       "std                       1.007436           1.285539   \n",
       "min                       1.000000           1.000000   \n",
       "25%                       3.000000           1.000000   \n",
       "50%                       4.000000           2.000000   \n",
       "75%                       5.000000           4.000000   \n",
       "max                       5.000000           5.000000   \n",
       "\n",
       "       opinion_h1n1_sick_from_vacc  opinion_seas_vacc_effective  \\\n",
       "count                 26312.000000                 26245.000000   \n",
       "mean                      2.357670                     4.025986   \n",
       "std                       1.362766                     1.086565   \n",
       "min                       1.000000                     1.000000   \n",
       "25%                       1.000000                     4.000000   \n",
       "50%                       2.000000                     4.000000   \n",
       "75%                       4.000000                     5.000000   \n",
       "max                       5.000000                     5.000000   \n",
       "\n",
       "       opinion_seas_risk  opinion_seas_sick_from_vacc  household_adults  \\\n",
       "count       26193.000000                 26170.000000      26458.000000   \n",
       "mean            2.719162                     2.118112          0.886499   \n",
       "std             1.385055                     1.332950          0.753422   \n",
       "min             1.000000                     1.000000          0.000000   \n",
       "25%             2.000000                     1.000000          0.000000   \n",
       "50%             2.000000                     2.000000          1.000000   \n",
       "75%             4.000000                     4.000000          1.000000   \n",
       "max             5.000000                     5.000000          3.000000   \n",
       "\n",
       "       household_children  \n",
       "count        26458.000000  \n",
       "mean             0.534583  \n",
       "std              0.928173  \n",
       "min              0.000000  \n",
       "25%              0.000000  \n",
       "50%              0.000000  \n",
       "75%              1.000000  \n",
       "max              3.000000  \n",
       "\n",
       "[8 rows x 24 columns]"
      ]
     },
     "execution_count": 4,
     "metadata": {},
     "output_type": "execute_result"
    }
   ],
   "source": [
    "train_data_df.describe()"
   ]
  },
  {
   "cell_type": "code",
   "execution_count": 5,
   "id": "be8d95d2",
   "metadata": {},
   "outputs": [
    {
     "name": "stdout",
     "output_type": "stream",
     "text": [
      "<class 'pandas.core.frame.DataFrame'>\n",
      "RangeIndex: 26707 entries, 0 to 26706\n",
      "Data columns (total 36 columns):\n",
      " #   Column                       Non-Null Count  Dtype  \n",
      "---  ------                       --------------  -----  \n",
      " 0   respondent_id                26707 non-null  int64  \n",
      " 1   h1n1_concern                 26615 non-null  float64\n",
      " 2   h1n1_knowledge               26591 non-null  float64\n",
      " 3   behavioral_antiviral_meds    26636 non-null  float64\n",
      " 4   behavioral_avoidance         26499 non-null  float64\n",
      " 5   behavioral_face_mask         26688 non-null  float64\n",
      " 6   behavioral_wash_hands        26665 non-null  float64\n",
      " 7   behavioral_large_gatherings  26620 non-null  float64\n",
      " 8   behavioral_outside_home      26625 non-null  float64\n",
      " 9   behavioral_touch_face        26579 non-null  float64\n",
      " 10  doctor_recc_h1n1             24547 non-null  float64\n",
      " 11  doctor_recc_seasonal         24547 non-null  float64\n",
      " 12  chronic_med_condition        25736 non-null  float64\n",
      " 13  child_under_6_months         25887 non-null  float64\n",
      " 14  health_worker                25903 non-null  float64\n",
      " 15  health_insurance             14433 non-null  float64\n",
      " 16  opinion_h1n1_vacc_effective  26316 non-null  float64\n",
      " 17  opinion_h1n1_risk            26319 non-null  float64\n",
      " 18  opinion_h1n1_sick_from_vacc  26312 non-null  float64\n",
      " 19  opinion_seas_vacc_effective  26245 non-null  float64\n",
      " 20  opinion_seas_risk            26193 non-null  float64\n",
      " 21  opinion_seas_sick_from_vacc  26170 non-null  float64\n",
      " 22  age_group                    26707 non-null  object \n",
      " 23  education                    25300 non-null  object \n",
      " 24  race                         26707 non-null  object \n",
      " 25  sex                          26707 non-null  object \n",
      " 26  income_poverty               22284 non-null  object \n",
      " 27  marital_status               25299 non-null  object \n",
      " 28  rent_or_own                  24665 non-null  object \n",
      " 29  employment_status            25244 non-null  object \n",
      " 30  hhs_geo_region               26707 non-null  object \n",
      " 31  census_msa                   26707 non-null  object \n",
      " 32  household_adults             26458 non-null  float64\n",
      " 33  household_children           26458 non-null  float64\n",
      " 34  employment_industry          13377 non-null  object \n",
      " 35  employment_occupation        13237 non-null  object \n",
      "dtypes: float64(23), int64(1), object(12)\n",
      "memory usage: 7.3+ MB\n"
     ]
    }
   ],
   "source": [
    "train_data_df.info()"
   ]
  },
  {
   "cell_type": "code",
   "execution_count": 6,
   "id": "80c6497c",
   "metadata": {},
   "outputs": [
    {
     "name": "stdout",
     "output_type": "stream",
     "text": [
      "<class 'pandas.core.frame.DataFrame'>\n",
      "RangeIndex: 26707 entries, 0 to 26706\n",
      "Data columns (total 3 columns):\n",
      " #   Column            Non-Null Count  Dtype\n",
      "---  ------            --------------  -----\n",
      " 0   respondent_id     26707 non-null  int64\n",
      " 1   h1n1_vaccine      26707 non-null  int64\n",
      " 2   seasonal_vaccine  26707 non-null  int64\n",
      "dtypes: int64(3)\n",
      "memory usage: 626.1 KB\n"
     ]
    }
   ],
   "source": [
    "train_labels_df.info()"
   ]
  },
  {
   "cell_type": "code",
   "execution_count": 7,
   "id": "afbfed49",
   "metadata": {},
   "outputs": [
    {
     "data": {
      "text/html": [
       "<div>\n",
       "<style scoped>\n",
       "    .dataframe tbody tr th:only-of-type {\n",
       "        vertical-align: middle;\n",
       "    }\n",
       "\n",
       "    .dataframe tbody tr th {\n",
       "        vertical-align: top;\n",
       "    }\n",
       "\n",
       "    .dataframe thead th {\n",
       "        text-align: right;\n",
       "    }\n",
       "</style>\n",
       "<table border=\"1\" class=\"dataframe\">\n",
       "  <thead>\n",
       "    <tr style=\"text-align: right;\">\n",
       "      <th></th>\n",
       "      <th>respondent_id</th>\n",
       "      <th>h1n1_vaccine</th>\n",
       "      <th>seasonal_vaccine</th>\n",
       "    </tr>\n",
       "  </thead>\n",
       "  <tbody>\n",
       "    <tr>\n",
       "      <th>count</th>\n",
       "      <td>26707.000000</td>\n",
       "      <td>26707.000000</td>\n",
       "      <td>26707.000000</td>\n",
       "    </tr>\n",
       "    <tr>\n",
       "      <th>mean</th>\n",
       "      <td>13353.000000</td>\n",
       "      <td>0.212454</td>\n",
       "      <td>0.465608</td>\n",
       "    </tr>\n",
       "    <tr>\n",
       "      <th>std</th>\n",
       "      <td>7709.791156</td>\n",
       "      <td>0.409052</td>\n",
       "      <td>0.498825</td>\n",
       "    </tr>\n",
       "    <tr>\n",
       "      <th>min</th>\n",
       "      <td>0.000000</td>\n",
       "      <td>0.000000</td>\n",
       "      <td>0.000000</td>\n",
       "    </tr>\n",
       "    <tr>\n",
       "      <th>25%</th>\n",
       "      <td>6676.500000</td>\n",
       "      <td>0.000000</td>\n",
       "      <td>0.000000</td>\n",
       "    </tr>\n",
       "    <tr>\n",
       "      <th>50%</th>\n",
       "      <td>13353.000000</td>\n",
       "      <td>0.000000</td>\n",
       "      <td>0.000000</td>\n",
       "    </tr>\n",
       "    <tr>\n",
       "      <th>75%</th>\n",
       "      <td>20029.500000</td>\n",
       "      <td>0.000000</td>\n",
       "      <td>1.000000</td>\n",
       "    </tr>\n",
       "    <tr>\n",
       "      <th>max</th>\n",
       "      <td>26706.000000</td>\n",
       "      <td>1.000000</td>\n",
       "      <td>1.000000</td>\n",
       "    </tr>\n",
       "  </tbody>\n",
       "</table>\n",
       "</div>"
      ],
      "text/plain": [
       "       respondent_id  h1n1_vaccine  seasonal_vaccine\n",
       "count   26707.000000  26707.000000      26707.000000\n",
       "mean    13353.000000      0.212454          0.465608\n",
       "std      7709.791156      0.409052          0.498825\n",
       "min         0.000000      0.000000          0.000000\n",
       "25%      6676.500000      0.000000          0.000000\n",
       "50%     13353.000000      0.000000          0.000000\n",
       "75%     20029.500000      0.000000          1.000000\n",
       "max     26706.000000      1.000000          1.000000"
      ]
     },
     "execution_count": 7,
     "metadata": {},
     "output_type": "execute_result"
    }
   ],
   "source": [
    "train_labels_df.describe()"
   ]
  },
  {
   "cell_type": "markdown",
   "id": "e70d3fce",
   "metadata": {},
   "source": [
    "The information above basically translates into:\n",
    "1. The train_data_df is the X data\n",
    "2. The train_labels_df is the y data"
   ]
  },
  {
   "cell_type": "markdown",
   "id": "01232b9c",
   "metadata": {},
   "source": [
    "## 3. Data Preparation"
   ]
  },
  {
   "cell_type": "code",
   "execution_count": 8,
   "id": "d5fa0ef3",
   "metadata": {},
   "outputs": [
    {
     "name": "stdout",
     "output_type": "stream",
     "text": [
      "0    21033\n",
      "1     5674\n",
      "Name: h1n1_vaccine, dtype: int64\n",
      "0    14272\n",
      "1    12435\n",
      "Name: seasonal_vaccine, dtype: int64\n"
     ]
    }
   ],
   "source": [
    "# Define X and y\n",
    "X = train_data_df[train_data_df.columns.difference(['respondent_id'])].copy()\n",
    "\n",
    "# Choosing the target variable\n",
    "print(train_labels_df['h1n1_vaccine'].value_counts())\n",
    "\n",
    "print(train_labels_df['seasonal_vaccine'].value_counts())"
   ]
  },
  {
   "cell_type": "markdown",
   "id": "c32aea50",
   "metadata": {},
   "source": [
    "#### Choosing y of seasonal_vaccine because it more balanced as a start target perhaps the h1 will be done after in the event of early completion\n",
    "\n",
    "Therefore, the target variable for the dataset is the 'seasonal_vaccine' class"
   ]
  },
  {
   "cell_type": "code",
   "execution_count": 9,
   "id": "d8d68c39",
   "metadata": {},
   "outputs": [],
   "source": [
    "y = train_labels_df['seasonal_vaccine'].copy()"
   ]
  },
  {
   "cell_type": "code",
   "execution_count": 10,
   "id": "519e8d35",
   "metadata": {},
   "outputs": [
    {
     "name": "stdout",
     "output_type": "stream",
     "text": [
      "The shape of X is (26707, 35)\n",
      "The shape of y is (26707,)\n"
     ]
    }
   ],
   "source": [
    "# viewing the shape of the data\n",
    "print(f'The shape of X is {X.shape}')\n",
    "\n",
    "print(f'The shape of y is {y.shape}')"
   ]
  },
  {
   "cell_type": "code",
   "execution_count": 11,
   "id": "44257335",
   "metadata": {},
   "outputs": [
    {
     "data": {
      "text/html": [
       "<div>\n",
       "<style scoped>\n",
       "    .dataframe tbody tr th:only-of-type {\n",
       "        vertical-align: middle;\n",
       "    }\n",
       "\n",
       "    .dataframe tbody tr th {\n",
       "        vertical-align: top;\n",
       "    }\n",
       "\n",
       "    .dataframe thead th {\n",
       "        text-align: right;\n",
       "    }\n",
       "</style>\n",
       "<table border=\"1\" class=\"dataframe\">\n",
       "  <thead>\n",
       "    <tr style=\"text-align: right;\">\n",
       "      <th></th>\n",
       "      <th>age_group</th>\n",
       "      <th>behavioral_antiviral_meds</th>\n",
       "      <th>behavioral_avoidance</th>\n",
       "      <th>behavioral_face_mask</th>\n",
       "      <th>behavioral_large_gatherings</th>\n",
       "      <th>behavioral_outside_home</th>\n",
       "      <th>behavioral_touch_face</th>\n",
       "      <th>behavioral_wash_hands</th>\n",
       "      <th>census_msa</th>\n",
       "      <th>child_under_6_months</th>\n",
       "      <th>...</th>\n",
       "      <th>marital_status</th>\n",
       "      <th>opinion_h1n1_risk</th>\n",
       "      <th>opinion_h1n1_sick_from_vacc</th>\n",
       "      <th>opinion_h1n1_vacc_effective</th>\n",
       "      <th>opinion_seas_risk</th>\n",
       "      <th>opinion_seas_sick_from_vacc</th>\n",
       "      <th>opinion_seas_vacc_effective</th>\n",
       "      <th>race</th>\n",
       "      <th>rent_or_own</th>\n",
       "      <th>sex</th>\n",
       "    </tr>\n",
       "  </thead>\n",
       "  <tbody>\n",
       "    <tr>\n",
       "      <th>0</th>\n",
       "      <td>55 - 64 Years</td>\n",
       "      <td>0.0</td>\n",
       "      <td>0.0</td>\n",
       "      <td>0.0</td>\n",
       "      <td>0.0</td>\n",
       "      <td>1.0</td>\n",
       "      <td>1.0</td>\n",
       "      <td>0.0</td>\n",
       "      <td>Non-MSA</td>\n",
       "      <td>0.0</td>\n",
       "      <td>...</td>\n",
       "      <td>Not Married</td>\n",
       "      <td>1.0</td>\n",
       "      <td>2.0</td>\n",
       "      <td>3.0</td>\n",
       "      <td>1.0</td>\n",
       "      <td>2.0</td>\n",
       "      <td>2.0</td>\n",
       "      <td>White</td>\n",
       "      <td>Own</td>\n",
       "      <td>Female</td>\n",
       "    </tr>\n",
       "    <tr>\n",
       "      <th>1</th>\n",
       "      <td>35 - 44 Years</td>\n",
       "      <td>0.0</td>\n",
       "      <td>1.0</td>\n",
       "      <td>0.0</td>\n",
       "      <td>0.0</td>\n",
       "      <td>1.0</td>\n",
       "      <td>1.0</td>\n",
       "      <td>1.0</td>\n",
       "      <td>MSA, Not Principle  City</td>\n",
       "      <td>0.0</td>\n",
       "      <td>...</td>\n",
       "      <td>Not Married</td>\n",
       "      <td>4.0</td>\n",
       "      <td>4.0</td>\n",
       "      <td>5.0</td>\n",
       "      <td>2.0</td>\n",
       "      <td>4.0</td>\n",
       "      <td>4.0</td>\n",
       "      <td>White</td>\n",
       "      <td>Rent</td>\n",
       "      <td>Male</td>\n",
       "    </tr>\n",
       "    <tr>\n",
       "      <th>2</th>\n",
       "      <td>18 - 34 Years</td>\n",
       "      <td>0.0</td>\n",
       "      <td>1.0</td>\n",
       "      <td>0.0</td>\n",
       "      <td>0.0</td>\n",
       "      <td>0.0</td>\n",
       "      <td>0.0</td>\n",
       "      <td>0.0</td>\n",
       "      <td>MSA, Not Principle  City</td>\n",
       "      <td>0.0</td>\n",
       "      <td>...</td>\n",
       "      <td>Not Married</td>\n",
       "      <td>1.0</td>\n",
       "      <td>1.0</td>\n",
       "      <td>3.0</td>\n",
       "      <td>1.0</td>\n",
       "      <td>2.0</td>\n",
       "      <td>4.0</td>\n",
       "      <td>White</td>\n",
       "      <td>Own</td>\n",
       "      <td>Male</td>\n",
       "    </tr>\n",
       "  </tbody>\n",
       "</table>\n",
       "<p>3 rows × 35 columns</p>\n",
       "</div>"
      ],
      "text/plain": [
       "       age_group  behavioral_antiviral_meds  behavioral_avoidance  \\\n",
       "0  55 - 64 Years                        0.0                   0.0   \n",
       "1  35 - 44 Years                        0.0                   1.0   \n",
       "2  18 - 34 Years                        0.0                   1.0   \n",
       "\n",
       "   behavioral_face_mask  behavioral_large_gatherings  behavioral_outside_home  \\\n",
       "0                   0.0                          0.0                      1.0   \n",
       "1                   0.0                          0.0                      1.0   \n",
       "2                   0.0                          0.0                      0.0   \n",
       "\n",
       "   behavioral_touch_face  behavioral_wash_hands                census_msa  \\\n",
       "0                    1.0                    0.0                   Non-MSA   \n",
       "1                    1.0                    1.0  MSA, Not Principle  City   \n",
       "2                    0.0                    0.0  MSA, Not Principle  City   \n",
       "\n",
       "   child_under_6_months  ...  marital_status  opinion_h1n1_risk  \\\n",
       "0                   0.0  ...     Not Married                1.0   \n",
       "1                   0.0  ...     Not Married                4.0   \n",
       "2                   0.0  ...     Not Married                1.0   \n",
       "\n",
       "   opinion_h1n1_sick_from_vacc opinion_h1n1_vacc_effective opinion_seas_risk  \\\n",
       "0                          2.0                         3.0               1.0   \n",
       "1                          4.0                         5.0               2.0   \n",
       "2                          1.0                         3.0               1.0   \n",
       "\n",
       "  opinion_seas_sick_from_vacc opinion_seas_vacc_effective   race  rent_or_own  \\\n",
       "0                         2.0                         2.0  White          Own   \n",
       "1                         4.0                         4.0  White         Rent   \n",
       "2                         2.0                         4.0  White          Own   \n",
       "\n",
       "      sex  \n",
       "0  Female  \n",
       "1    Male  \n",
       "2    Male  \n",
       "\n",
       "[3 rows x 35 columns]"
      ]
     },
     "execution_count": 11,
     "metadata": {},
     "output_type": "execute_result"
    }
   ],
   "source": [
    "# Checking the data types, and whether they're appropriate\n",
    "X.head(3)"
   ]
  },
  {
   "cell_type": "markdown",
   "id": "a69877e0",
   "metadata": {},
   "source": [
    "A lot of encoding will have to be done to the categorical columns"
   ]
  },
  {
   "cell_type": "markdown",
   "id": "560f79ea",
   "metadata": {},
   "source": [
    "### Dealing with missing values"
   ]
  },
  {
   "cell_type": "code",
   "execution_count": 12,
   "id": "2c05702d",
   "metadata": {
    "scrolled": true
   },
   "outputs": [
    {
     "data": {
      "text/plain": [
       "age_group                          0\n",
       "behavioral_antiviral_meds         71\n",
       "behavioral_avoidance             208\n",
       "behavioral_face_mask              19\n",
       "behavioral_large_gatherings       87\n",
       "behavioral_outside_home           82\n",
       "behavioral_touch_face            128\n",
       "behavioral_wash_hands             42\n",
       "census_msa                         0\n",
       "child_under_6_months             820\n",
       "chronic_med_condition            971\n",
       "doctor_recc_h1n1                2160\n",
       "doctor_recc_seasonal            2160\n",
       "education                       1407\n",
       "employment_industry            13330\n",
       "employment_occupation          13470\n",
       "employment_status               1463\n",
       "h1n1_concern                      92\n",
       "h1n1_knowledge                   116\n",
       "health_insurance               12274\n",
       "health_worker                    804\n",
       "hhs_geo_region                     0\n",
       "household_adults                 249\n",
       "household_children               249\n",
       "income_poverty                  4423\n",
       "marital_status                  1408\n",
       "opinion_h1n1_risk                388\n",
       "opinion_h1n1_sick_from_vacc      395\n",
       "opinion_h1n1_vacc_effective      391\n",
       "opinion_seas_risk                514\n",
       "opinion_seas_sick_from_vacc      537\n",
       "opinion_seas_vacc_effective      462\n",
       "race                               0\n",
       "rent_or_own                     2042\n",
       "sex                                0\n",
       "dtype: int64"
      ]
     },
     "execution_count": 12,
     "metadata": {},
     "output_type": "execute_result"
    }
   ],
   "source": [
    "# Checking for null values\n",
    "X.isna().sum()"
   ]
  },
  {
   "cell_type": "code",
   "execution_count": 13,
   "id": "b883786c",
   "metadata": {},
   "outputs": [
    {
     "data": {
      "text/plain": [
       "26707"
      ]
     },
     "execution_count": 13,
     "metadata": {},
     "output_type": "execute_result"
    }
   ],
   "source": [
    "# total length of dataset\n",
    "data_len = len(X)\n",
    "data_len"
   ]
  },
  {
   "cell_type": "markdown",
   "id": "ae5729b2",
   "metadata": {},
   "source": [
    "#### Removing features with extreme levels of missing data to prevent introducing error or unnecessary level of bias or variance to potentially very sensitive data"
   ]
  },
  {
   "cell_type": "code",
   "execution_count": 14,
   "id": "d546fdac",
   "metadata": {
    "scrolled": true
   },
   "outputs": [
    {
     "name": "stdout",
     "output_type": "stream",
     "text": [
      "age_group: 0\n",
      "behavioral_antiviral_meds: 71\n",
      "behavioral_avoidance: 208\n",
      "behavioral_face_mask: 19\n",
      "behavioral_large_gatherings: 87\n",
      "behavioral_outside_home: 82\n",
      "behavioral_touch_face: 128\n",
      "behavioral_wash_hands: 42\n",
      "census_msa: 0\n",
      "child_under_6_months: 820\n",
      "chronic_med_condition: 971\n",
      "doctor_recc_h1n1: 2160\n",
      "doctor_recc_seasonal: 2160\n",
      "education: 1407\n",
      "employment_status: 1463\n",
      "h1n1_concern: 92\n",
      "h1n1_knowledge: 116\n",
      "health_worker: 804\n",
      "hhs_geo_region: 0\n",
      "household_adults: 249\n",
      "household_children: 249\n",
      "income_poverty: 4423\n",
      "marital_status: 1408\n",
      "opinion_h1n1_risk: 388\n",
      "opinion_h1n1_sick_from_vacc: 395\n",
      "opinion_h1n1_vacc_effective: 391\n",
      "opinion_seas_risk: 514\n",
      "opinion_seas_sick_from_vacc: 537\n",
      "opinion_seas_vacc_effective: 462\n",
      "race: 0\n",
      "rent_or_own: 2042\n",
      "sex: 0\n"
     ]
    }
   ],
   "source": [
    "# removing features with missing data of 40% or more\n",
    "new_X_columns = []\n",
    "for column in X.columns:\n",
    "    if (X[column].isna().sum()/data_len) > 0.4:\n",
    "        continue\n",
    "    else:\n",
    "        print(f'{column}: {X[column].isna().sum()}')\n",
    "        new_X_columns.append(column)"
   ]
  },
  {
   "cell_type": "code",
   "execution_count": 15,
   "id": "42eaa190",
   "metadata": {},
   "outputs": [
    {
     "data": {
      "text/plain": [
       "Index(['age_group', 'behavioral_antiviral_meds', 'behavioral_avoidance',\n",
       "       'behavioral_face_mask', 'behavioral_large_gatherings',\n",
       "       'behavioral_outside_home', 'behavioral_touch_face',\n",
       "       'behavioral_wash_hands', 'census_msa', 'child_under_6_months',\n",
       "       'chronic_med_condition', 'doctor_recc_h1n1', 'doctor_recc_seasonal',\n",
       "       'education', 'employment_status', 'h1n1_concern', 'h1n1_knowledge',\n",
       "       'health_worker', 'hhs_geo_region', 'household_adults',\n",
       "       'household_children', 'income_poverty', 'marital_status',\n",
       "       'opinion_h1n1_risk', 'opinion_h1n1_sick_from_vacc',\n",
       "       'opinion_h1n1_vacc_effective', 'opinion_seas_risk',\n",
       "       'opinion_seas_sick_from_vacc', 'opinion_seas_vacc_effective', 'race',\n",
       "       'rent_or_own', 'sex'],\n",
       "      dtype='object')"
      ]
     },
     "execution_count": 15,
     "metadata": {},
     "output_type": "execute_result"
    }
   ],
   "source": [
    "# Getting the less cumbersome data\n",
    "working_X = X[new_X_columns].copy()\n",
    "working_X.columns"
   ]
  },
  {
   "cell_type": "code",
   "execution_count": 16,
   "id": "a2d84c98",
   "metadata": {},
   "outputs": [
    {
     "name": "stdout",
     "output_type": "stream",
     "text": [
      "0    0.0\n",
      "1    0.0\n",
      "2    0.0\n",
      "Name: behavioral_antiviral_meds, dtype: float64\n",
      "0    0.0\n",
      "1    1.0\n",
      "2    1.0\n",
      "Name: behavioral_avoidance, dtype: float64\n",
      "0    0.0\n",
      "1    0.0\n",
      "2    0.0\n",
      "Name: behavioral_face_mask, dtype: float64\n",
      "0    0.0\n",
      "1    0.0\n",
      "2    0.0\n",
      "Name: behavioral_large_gatherings, dtype: float64\n",
      "0    1.0\n",
      "1    1.0\n",
      "2    0.0\n",
      "Name: behavioral_outside_home, dtype: float64\n",
      "0    1.0\n",
      "1    1.0\n",
      "2    0.0\n",
      "Name: behavioral_touch_face, dtype: float64\n",
      "0    0.0\n",
      "1    1.0\n",
      "2    0.0\n",
      "Name: behavioral_wash_hands, dtype: float64\n",
      "0    0.0\n",
      "1    0.0\n",
      "2    0.0\n",
      "Name: child_under_6_months, dtype: float64\n",
      "0    0.0\n",
      "1    0.0\n",
      "2    1.0\n",
      "Name: chronic_med_condition, dtype: float64\n",
      "0    0.0\n",
      "1    0.0\n",
      "2    NaN\n",
      "Name: doctor_recc_h1n1, dtype: float64\n",
      "0    0.0\n",
      "1    0.0\n",
      "2    NaN\n",
      "Name: doctor_recc_seasonal, dtype: float64\n",
      "0          < 12 Years\n",
      "1            12 Years\n",
      "2    College Graduate\n",
      "Name: education, dtype: object\n",
      "0    Not in Labor Force\n",
      "1              Employed\n",
      "2              Employed\n",
      "Name: employment_status, dtype: object\n",
      "0    1.0\n",
      "1    3.0\n",
      "2    1.0\n",
      "Name: h1n1_concern, dtype: float64\n",
      "0    0.0\n",
      "1    2.0\n",
      "2    1.0\n",
      "Name: h1n1_knowledge, dtype: float64\n",
      "0    0.0\n",
      "1    0.0\n",
      "2    0.0\n",
      "Name: health_worker, dtype: float64\n",
      "0    0.0\n",
      "1    0.0\n",
      "2    2.0\n",
      "Name: household_adults, dtype: float64\n",
      "0    0.0\n",
      "1    0.0\n",
      "2    0.0\n",
      "Name: household_children, dtype: float64\n",
      "0                Below Poverty\n",
      "1                Below Poverty\n",
      "2    <= $75,000, Above Poverty\n",
      "Name: income_poverty, dtype: object\n",
      "0    Not Married\n",
      "1    Not Married\n",
      "2    Not Married\n",
      "Name: marital_status, dtype: object\n",
      "0    1.0\n",
      "1    4.0\n",
      "2    1.0\n",
      "Name: opinion_h1n1_risk, dtype: float64\n",
      "0    2.0\n",
      "1    4.0\n",
      "2    1.0\n",
      "Name: opinion_h1n1_sick_from_vacc, dtype: float64\n",
      "0    3.0\n",
      "1    5.0\n",
      "2    3.0\n",
      "Name: opinion_h1n1_vacc_effective, dtype: float64\n",
      "0    1.0\n",
      "1    2.0\n",
      "2    1.0\n",
      "Name: opinion_seas_risk, dtype: float64\n",
      "0    2.0\n",
      "1    4.0\n",
      "2    2.0\n",
      "Name: opinion_seas_sick_from_vacc, dtype: float64\n",
      "0    2.0\n",
      "1    4.0\n",
      "2    4.0\n",
      "Name: opinion_seas_vacc_effective, dtype: float64\n",
      "0     Own\n",
      "1    Rent\n",
      "2     Own\n",
      "Name: rent_or_own, dtype: object\n"
     ]
    }
   ],
   "source": [
    "# viewing the columns in order to deal with missing vals\n",
    "for column in working_X.columns:\n",
    "    if (working_X[column].isna().sum()) > 0:\n",
    "        print( working_X[column].head(3))"
   ]
  },
  {
   "cell_type": "code",
   "execution_count": 17,
   "id": "92d811e1",
   "metadata": {},
   "outputs": [],
   "source": [
    "def outcome(df):\n",
    "        for column in df.columns:\n",
    "            if (isinstance(df[column][0], float)):\n",
    "                df[column] = df[column].interpolate()\n",
    "            else:\n",
    "                df[column] = df[column].fillna(df[column].mode()[0])\n",
    "        return df        "
   ]
  },
  {
   "cell_type": "code",
   "execution_count": 18,
   "id": "52576835",
   "metadata": {},
   "outputs": [],
   "source": [
    "# Filling null/missing vals\n",
    "working_X = outcome(working_X)"
   ]
  },
  {
   "cell_type": "code",
   "execution_count": 19,
   "id": "5ad01a90",
   "metadata": {
    "scrolled": false
   },
   "outputs": [
    {
     "data": {
      "text/plain": [
       "age_group                      0\n",
       "behavioral_antiviral_meds      0\n",
       "behavioral_avoidance           0\n",
       "behavioral_face_mask           0\n",
       "behavioral_large_gatherings    0\n",
       "behavioral_outside_home        0\n",
       "behavioral_touch_face          0\n",
       "behavioral_wash_hands          0\n",
       "census_msa                     0\n",
       "child_under_6_months           0\n",
       "chronic_med_condition          0\n",
       "doctor_recc_h1n1               0\n",
       "doctor_recc_seasonal           0\n",
       "education                      0\n",
       "employment_status              0\n",
       "h1n1_concern                   0\n",
       "h1n1_knowledge                 0\n",
       "health_worker                  0\n",
       "hhs_geo_region                 0\n",
       "household_adults               0\n",
       "household_children             0\n",
       "income_poverty                 0\n",
       "marital_status                 0\n",
       "opinion_h1n1_risk              0\n",
       "opinion_h1n1_sick_from_vacc    0\n",
       "opinion_h1n1_vacc_effective    0\n",
       "opinion_seas_risk              0\n",
       "opinion_seas_sick_from_vacc    0\n",
       "opinion_seas_vacc_effective    0\n",
       "race                           0\n",
       "rent_or_own                    0\n",
       "sex                            0\n",
       "dtype: int64"
      ]
     },
     "execution_count": 19,
     "metadata": {},
     "output_type": "execute_result"
    }
   ],
   "source": [
    "working_X.isna().sum()"
   ]
  },
  {
   "cell_type": "markdown",
   "id": "450279c2",
   "metadata": {},
   "source": [
    "### Encoding the categorical features"
   ]
  },
  {
   "cell_type": "code",
   "execution_count": 20,
   "id": "18fe970a",
   "metadata": {
    "scrolled": true
   },
   "outputs": [
    {
     "data": {
      "text/plain": [
       "['age_group',\n",
       " 'census_msa',\n",
       " 'education',\n",
       " 'employment_status',\n",
       " 'hhs_geo_region',\n",
       " 'income_poverty',\n",
       " 'marital_status',\n",
       " 'race',\n",
       " 'rent_or_own',\n",
       " 'sex']"
      ]
     },
     "execution_count": 20,
     "metadata": {},
     "output_type": "execute_result"
    }
   ],
   "source": [
    "categorical_columns = []\n",
    "for column in working_X.columns:\n",
    "    # print(working_X[column].dtypes)\n",
    "    if working_X[column].dtypes == object:\n",
    "        categorical_columns.append(column)\n",
    "categorical_columns"
   ]
  },
  {
   "cell_type": "code",
   "execution_count": 21,
   "id": "c3d4a6fd",
   "metadata": {},
   "outputs": [],
   "source": [
    "from sklearn.preprocessing import LabelEncoder\n",
    "def encoding(df):\n",
    "    LE = LabelEncoder()\n",
    "    for col in categorical_columns:\n",
    "        df[col]= LE.fit_transform(df[col])\n",
    "    return df"
   ]
  },
  {
   "cell_type": "code",
   "execution_count": 22,
   "id": "d6eab2ed",
   "metadata": {},
   "outputs": [],
   "source": [
    "working_X = encoding(working_X)"
   ]
  },
  {
   "cell_type": "code",
   "execution_count": 23,
   "id": "8f3e7b82",
   "metadata": {},
   "outputs": [
    {
     "data": {
      "text/html": [
       "<div>\n",
       "<style scoped>\n",
       "    .dataframe tbody tr th:only-of-type {\n",
       "        vertical-align: middle;\n",
       "    }\n",
       "\n",
       "    .dataframe tbody tr th {\n",
       "        vertical-align: top;\n",
       "    }\n",
       "\n",
       "    .dataframe thead th {\n",
       "        text-align: right;\n",
       "    }\n",
       "</style>\n",
       "<table border=\"1\" class=\"dataframe\">\n",
       "  <thead>\n",
       "    <tr style=\"text-align: right;\">\n",
       "      <th></th>\n",
       "      <th>age_group</th>\n",
       "      <th>census_msa</th>\n",
       "      <th>education</th>\n",
       "      <th>employment_status</th>\n",
       "      <th>hhs_geo_region</th>\n",
       "      <th>income_poverty</th>\n",
       "      <th>marital_status</th>\n",
       "      <th>race</th>\n",
       "      <th>rent_or_own</th>\n",
       "      <th>sex</th>\n",
       "    </tr>\n",
       "  </thead>\n",
       "  <tbody>\n",
       "    <tr>\n",
       "      <th>0</th>\n",
       "      <td>3</td>\n",
       "      <td>2</td>\n",
       "      <td>1</td>\n",
       "      <td>1</td>\n",
       "      <td>8</td>\n",
       "      <td>2</td>\n",
       "      <td>1</td>\n",
       "      <td>3</td>\n",
       "      <td>0</td>\n",
       "      <td>0</td>\n",
       "    </tr>\n",
       "    <tr>\n",
       "      <th>1</th>\n",
       "      <td>1</td>\n",
       "      <td>0</td>\n",
       "      <td>0</td>\n",
       "      <td>0</td>\n",
       "      <td>1</td>\n",
       "      <td>2</td>\n",
       "      <td>1</td>\n",
       "      <td>3</td>\n",
       "      <td>1</td>\n",
       "      <td>1</td>\n",
       "    </tr>\n",
       "    <tr>\n",
       "      <th>2</th>\n",
       "      <td>0</td>\n",
       "      <td>0</td>\n",
       "      <td>2</td>\n",
       "      <td>0</td>\n",
       "      <td>9</td>\n",
       "      <td>0</td>\n",
       "      <td>1</td>\n",
       "      <td>3</td>\n",
       "      <td>0</td>\n",
       "      <td>1</td>\n",
       "    </tr>\n",
       "    <tr>\n",
       "      <th>3</th>\n",
       "      <td>4</td>\n",
       "      <td>1</td>\n",
       "      <td>0</td>\n",
       "      <td>1</td>\n",
       "      <td>5</td>\n",
       "      <td>2</td>\n",
       "      <td>1</td>\n",
       "      <td>3</td>\n",
       "      <td>1</td>\n",
       "      <td>0</td>\n",
       "    </tr>\n",
       "    <tr>\n",
       "      <th>4</th>\n",
       "      <td>2</td>\n",
       "      <td>0</td>\n",
       "      <td>3</td>\n",
       "      <td>0</td>\n",
       "      <td>9</td>\n",
       "      <td>0</td>\n",
       "      <td>0</td>\n",
       "      <td>3</td>\n",
       "      <td>0</td>\n",
       "      <td>0</td>\n",
       "    </tr>\n",
       "  </tbody>\n",
       "</table>\n",
       "</div>"
      ],
      "text/plain": [
       "   age_group  census_msa  education  employment_status  hhs_geo_region  \\\n",
       "0          3           2          1                  1               8   \n",
       "1          1           0          0                  0               1   \n",
       "2          0           0          2                  0               9   \n",
       "3          4           1          0                  1               5   \n",
       "4          2           0          3                  0               9   \n",
       "\n",
       "   income_poverty  marital_status  race  rent_or_own  sex  \n",
       "0               2               1     3            0    0  \n",
       "1               2               1     3            1    1  \n",
       "2               0               1     3            0    1  \n",
       "3               2               1     3            1    0  \n",
       "4               0               0     3            0    0  "
      ]
     },
     "execution_count": 23,
     "metadata": {},
     "output_type": "execute_result"
    }
   ],
   "source": [
    "working_X[categorical_columns].head()"
   ]
  },
  {
   "cell_type": "code",
   "execution_count": 24,
   "id": "c90c7974",
   "metadata": {},
   "outputs": [],
   "source": [
    "# Split into data into train and test sets\n",
    "X_train, X_test, y_train, y_test = train_test_split(working_X, y, test_size=0.3, random_state=42)"
   ]
  },
  {
   "cell_type": "markdown",
   "id": "190f77ea",
   "metadata": {},
   "source": [
    "### Beginning of redundant functions"
   ]
  },
  {
   "cell_type": "code",
   "execution_count": 25,
   "id": "99aff388",
   "metadata": {},
   "outputs": [],
   "source": [
    "def modelScores(actual_y, y_pred):\n",
    "    print('Precision score: ',np.round(precision_score(actual_y, y_pred),2))\n",
    "    print('Recall score: ',np.round(recall_score(actual_y, y_pred),2))\n",
    "    print('Accuracy score: ',np.round(accuracy_score(actual_y, y_pred),2))\n",
    "    print('F1 score: ',np.round(f1_score(actual_y, y_pred),2))"
   ]
  },
  {
   "cell_type": "code",
   "execution_count": 26,
   "id": "d9685af3",
   "metadata": {},
   "outputs": [],
   "source": [
    "def roc_curveDiagram(y_test, y_pred, estimator):\n",
    "    # ROC Curve\n",
    "    fpr, tpr, thresholds = metrics.roc_curve(y_test, y_pred)\n",
    "    roc_auc = metrics.auc(fpr, tpr)\n",
    "    display = metrics.RocCurveDisplay(fpr=fpr,  tpr=tpr, roc_auc=roc_auc,\n",
    "                                     estimator_name=estimator)\n",
    "    display.plot()\n",
    "    # metrics.plot_roc_curve(logreg, X_test, y_test)  \n",
    "    plt.show();"
   ]
  },
  {
   "cell_type": "code",
   "execution_count": 27,
   "id": "a8f83d9c",
   "metadata": {},
   "outputs": [],
   "source": [
    "def confusionMat(X_test, gridsearch, y_test):\n",
    "    # Confusion matrix\n",
    "    y_pred = gridsearch.predict(X_test)\n",
    "    cm_reg = confusion_matrix(y_test, y_pred, labels=gridsearch.classes_)\n",
    "    disp_reg = ConfusionMatrixDisplay(confusion_matrix=cm_reg, display_labels=gridsearch.classes_)\n",
    "    disp_reg.plot()\n",
    "    plt.show()"
   ]
  },
  {
   "cell_type": "markdown",
   "id": "e64578d8",
   "metadata": {},
   "source": [
    "### End of redundant functions"
   ]
  },
  {
   "cell_type": "markdown",
   "id": "4093fe7f",
   "metadata": {},
   "source": [
    "# Logistic Regression (Baseline model)"
   ]
  },
  {
   "cell_type": "markdown",
   "id": "2e0279b6",
   "metadata": {},
   "source": [
    "## 4. Modeling"
   ]
  },
  {
   "cell_type": "code",
   "execution_count": 28,
   "id": "2bea407d",
   "metadata": {},
   "outputs": [],
   "source": [
    "from sklearn.linear_model import LogisticRegression\n",
    "logreg = LogisticRegression()\n",
    "logreg.fit(X_train, y_train)\n",
    "y_test_pred = logreg.predict(X_test)"
   ]
  },
  {
   "cell_type": "markdown",
   "id": "3a5d807b",
   "metadata": {},
   "source": [
    "## 5. Evaluation"
   ]
  },
  {
   "cell_type": "code",
   "execution_count": 29,
   "id": "92a8ff36",
   "metadata": {},
   "outputs": [
    {
     "name": "stdout",
     "output_type": "stream",
     "text": [
      "Precision score:  0.77\n",
      "Recall score:  0.74\n",
      "Accuracy score:  0.78\n",
      "F1 score:  0.75\n"
     ]
    }
   ],
   "source": [
    "# Getting the eval metrics\n",
    "modelScores(y_test, y_test_pred)"
   ]
  },
  {
   "cell_type": "code",
   "execution_count": 30,
   "id": "b9c27f2e",
   "metadata": {},
   "outputs": [
    {
     "data": {
      "image/png": "[encoded data removed]",
      "text/plain": [
       "<Figure size 432x288 with 2 Axes>"
      ]
     },
     "metadata": {
      "needs_background": "light"
     },
     "output_type": "display_data"
    }
   ],
   "source": [
    "# confusion matrix\n",
    "confusionMat(X_test, logreg, y_test)"
   ]
  },
  {
   "cell_type": "code",
   "execution_count": 31,
   "id": "7293eb07",
   "metadata": {},
   "outputs": [
    {
     "data": {
      "image/png": "[encoded data removed]",
      "text/plain": [
       "<Figure size 432x288 with 1 Axes>"
      ]
     },
     "metadata": {
      "needs_background": "light"
     },
     "output_type": "display_data"
    }
   ],
   "source": [
    "# ROC Curve\n",
    "roc_curveDiagram(y_test, y_test_pred, 'Logistic Regression')"
   ]
  },
  {
   "cell_type": "markdown",
   "id": "567ed978",
   "metadata": {},
   "source": [
    "### Baseline conclusion:\n",
    "Very good accuracy and f1 score was achieved. Since the dataset was quite balanced in the representation of target classes, the eventual outcome was fairly similar.\n",
    "\n",
    "Now, to potentially improve on the overall accuracy by using tuned hyper params, and other classifiers (ie. Decision Tree and Gaussian NB) "
   ]
  },
  {
   "cell_type": "markdown",
   "id": "ef328e2e",
   "metadata": {},
   "source": [
    "# Logistic Regression with hyperparam tuning"
   ]
  },
  {
   "cell_type": "markdown",
   "id": "e1b07637",
   "metadata": {},
   "source": [
    "## 4. Modeling"
   ]
  },
  {
   "cell_type": "code",
   "execution_count": 32,
   "id": "42b9c80b",
   "metadata": {},
   "outputs": [],
   "source": [
    "from sklearn.preprocessing import StandardScaler, MinMaxScaler"
   ]
  },
  {
   "cell_type": "code",
   "execution_count": 33,
   "id": "3b71824e",
   "metadata": {},
   "outputs": [],
   "source": [
    "pipe = Pipeline([\n",
    "    ('scaler', StandardScaler()),\n",
    "    ('class', LogisticRegression())\n",
    "])\n",
    "\n",
    "# Unlike the initial logreg, this one uses tuned/specified hyper params\n",
    "# Max iter specifies how many iterations the program should run before terminating incase convergence is not found\n",
    "# Penalty specifies which regularization method to use, in this case Ridge regression\n",
    "# random state dictates how to randomize the data during the splits\n",
    "# solver are algos that help in optimizing for logistic reg\n",
    "\n",
    "grid = [{\n",
    "    'scaler': [StandardScaler(), MinMaxScaler()],\n",
    "    'class__max_iter': [1000],\n",
    "    'class__penalty': ['l2',],\n",
    "    'class__random_state': [1, 10, 42],\n",
    "    'class__solver': ['liblinear', 'newton-cg', 'lbfgs', 'sag', 'saga']\n",
    "}]\n",
    "\n",
    "gridsearch = GridSearchCV(estimator=pipe,\n",
    "                         param_grid=grid,\n",
    "                         scoring='accuracy',\n",
    "                         cv=10)"
   ]
  },
  {
   "cell_type": "code",
   "execution_count": 34,
   "id": "33c41706",
   "metadata": {},
   "outputs": [
    {
     "data": {
      "text/plain": [
       "GridSearchCV(cv=10,\n",
       "             estimator=Pipeline(steps=[('scaler', StandardScaler()),\n",
       "                                       ('class', LogisticRegression())]),\n",
       "             param_grid=[{'class__max_iter': [1000], 'class__penalty': ['l2'],\n",
       "                          'class__random_state': [1, 10, 42],\n",
       "                          'class__solver': ['liblinear', 'newton-cg', 'lbfgs',\n",
       "                                            'sag', 'saga'],\n",
       "                          'scaler': [StandardScaler(), MinMaxScaler()]}],\n",
       "             scoring='accuracy')"
      ]
     },
     "execution_count": 34,
     "metadata": {},
     "output_type": "execute_result"
    }
   ],
   "source": [
    "gridsearch.fit(X_train, y_train)"
   ]
  },
  {
   "cell_type": "markdown",
   "id": "c1cf655c",
   "metadata": {},
   "source": [
    "## 5. Evaluation"
   ]
  },
  {
   "cell_type": "code",
   "execution_count": 35,
   "id": "8f04a49b",
   "metadata": {},
   "outputs": [
    {
     "name": "stdout",
     "output_type": "stream",
     "text": [
      "The best score of the grid search with different hyperparams: \n",
      "0.7789841507550231\n"
     ]
    }
   ],
   "source": [
    "print(f'The best score of the grid search with different hyperparams: \\n{gridsearch.score(X_test, y_test)}')"
   ]
  },
  {
   "cell_type": "code",
   "execution_count": 36,
   "id": "021c7074",
   "metadata": {
    "scrolled": true
   },
   "outputs": [
    {
     "data": {
      "image/png": "[encoded data removed]",
      "text/plain": [
       "<Figure size 432x288 with 2 Axes>"
      ]
     },
     "metadata": {
      "needs_background": "light"
     },
     "output_type": "display_data"
    }
   ],
   "source": [
    "# confusion matrix\n",
    "confusionMat(X_test, gridsearch, y_test)"
   ]
  },
  {
   "cell_type": "code",
   "execution_count": 38,
   "id": "1c5a0104",
   "metadata": {},
   "outputs": [
    {
     "name": "stdout",
     "output_type": "stream",
     "text": [
      "Precision score:  0.77\n",
      "Recall score:  0.74\n",
      "Accuracy score:  0.78\n",
      "F1 score:  0.75\n"
     ]
    }
   ],
   "source": [
    "# Getting the eval metrics\n",
    "y_pred_gs = gridsearch.predict(X_test)\n",
    "modelScores(y_test, y_pred_gs)"
   ]
  },
  {
   "cell_type": "code",
   "execution_count": 39,
   "id": "ce9053d5",
   "metadata": {},
   "outputs": [
    {
     "data": {
      "image/png": "[encoded data removed]",
      "text/plain": [
       "<Figure size 432x288 with 1 Axes>"
      ]
     },
     "metadata": {
      "needs_background": "light"
     },
     "output_type": "display_data"
    }
   ],
   "source": [
    "# ROC Curve\n",
    "roc_curveDiagram(y_test, y_pred_gs, 'Logistic Regression')"
   ]
  },
  {
   "cell_type": "markdown",
   "id": "249c09d3",
   "metadata": {},
   "source": [
    "#### The best "
   ]
  },
  {
   "cell_type": "markdown",
   "id": "ba95cee4",
   "metadata": {},
   "source": [
    "# Decision Tree Classifier"
   ]
  },
  {
   "cell_type": "markdown",
   "id": "487e6d86",
   "metadata": {},
   "source": [
    "## 4. Modeling"
   ]
  },
  {
   "cell_type": "code",
   "execution_count": 40,
   "id": "f62adea8",
   "metadata": {},
   "outputs": [],
   "source": [
    "from sklearn.tree import DecisionTreeClassifier"
   ]
  },
  {
   "cell_type": "code",
   "execution_count": 41,
   "id": "d0e339d8",
   "metadata": {},
   "outputs": [],
   "source": [
    "pipe = Pipeline([\n",
    "    ('scaler', StandardScaler()),\n",
    "    ('class', DecisionTreeClassifier())\n",
    "])\n",
    "\n",
    "# criterion for the DT specifies which information metrics to use to measure impurity\n",
    "# max depth is how deep a tree should go, starting with small to large depths\n",
    "# min samples leaf specifies the least amount of samples to be in a leaf\n",
    "\n",
    "grid = [{\n",
    "    'scaler': [StandardScaler(), MinMaxScaler()],\n",
    "    'class__criterion': ['gini', 'entropy'],\n",
    "    'class__max_depth': [1, 3, 5, 10],\n",
    "    'class__min_samples_leaf': [5],\n",
    "    'class__random_state': [0, 42, 100]\n",
    "}]\n",
    "\n",
    "gridsearch_DT = GridSearchCV(estimator=pipe,\n",
    "                         param_grid=grid,\n",
    "                         scoring='accuracy',\n",
    "                         cv=10)"
   ]
  },
  {
   "cell_type": "code",
   "execution_count": 42,
   "id": "4b03c9fd",
   "metadata": {},
   "outputs": [
    {
     "data": {
      "text/plain": [
       "GridSearchCV(cv=10,\n",
       "             estimator=Pipeline(steps=[('scaler', StandardScaler()),\n",
       "                                       ('class', DecisionTreeClassifier())]),\n",
       "             param_grid=[{'class__criterion': ['gini', 'entropy'],\n",
       "                          'class__max_depth': [1, 3, 5, 10],\n",
       "                          'class__min_samples_leaf': [5],\n",
       "                          'class__random_state': [0, 42, 100],\n",
       "                          'scaler': [StandardScaler(), MinMaxScaler()]}],\n",
       "             scoring='accuracy')"
      ]
     },
     "execution_count": 42,
     "metadata": {},
     "output_type": "execute_result"
    }
   ],
   "source": [
    "gridsearch_DT.fit(X_train, y_train)"
   ]
  },
  {
   "cell_type": "markdown",
   "id": "2d8b62ee",
   "metadata": {},
   "source": [
    "## 5. Evaluation"
   ]
  },
  {
   "cell_type": "code",
   "execution_count": 43,
   "id": "5f99fb3b",
   "metadata": {},
   "outputs": [
    {
     "name": "stdout",
     "output_type": "stream",
     "text": [
      "The best score of the grid search with different hyperparams: \n",
      "0.7621365281417696\n"
     ]
    }
   ],
   "source": [
    "print(f'The best score of the grid search with different hyperparams: \\n{gridsearch_DT.score(X_test, y_test)}')"
   ]
  },
  {
   "cell_type": "code",
   "execution_count": 44,
   "id": "693db5ca",
   "metadata": {},
   "outputs": [
    {
     "data": {
      "image/png": "[encoded data removed]",
      "text/plain": [
       "<Figure size 432x288 with 2 Axes>"
      ]
     },
     "metadata": {
      "needs_background": "light"
     },
     "output_type": "display_data"
    }
   ],
   "source": [
    "# confusion matrix\n",
    "confusionMat(X_test, gridsearch_DT, y_test)"
   ]
  },
  {
   "cell_type": "code",
   "execution_count": 45,
   "id": "b915bef9",
   "metadata": {},
   "outputs": [
    {
     "name": "stdout",
     "output_type": "stream",
     "text": [
      "Precision score:  0.78\n",
      "Recall score:  0.67\n",
      "Accuracy score:  0.76\n",
      "F1 score:  0.72\n"
     ]
    }
   ],
   "source": [
    "# Getting the eval metrics\n",
    "y_pred_dt = gridsearch_DT.predict(X_test)\n",
    "modelScores(y_test, y_pred_dt)"
   ]
  },
  {
   "cell_type": "code",
   "execution_count": 47,
   "id": "63492346",
   "metadata": {},
   "outputs": [
    {
     "data": {
      "image/png": "[encoded data removed]",
      "text/plain": [
       "<Figure size 432x288 with 1 Axes>"
      ]
     },
     "metadata": {
      "needs_background": "light"
     },
     "output_type": "display_data"
    }
   ],
   "source": [
    "# ROC Curve\n",
    "roc_curveDiagram(y_test, y_pred_dt, 'DT Classifier')"
   ]
  },
  {
   "cell_type": "markdown",
   "id": "cc26479e",
   "metadata": {},
   "source": [
    "# Gaussian Naive Bayes Classifier"
   ]
  },
  {
   "cell_type": "markdown",
   "id": "adce5f71",
   "metadata": {},
   "source": [
    "## 4. Modeling"
   ]
  },
  {
   "cell_type": "code",
   "execution_count": 48,
   "id": "ecd5ee1d",
   "metadata": {},
   "outputs": [],
   "source": [
    "from sklearn.naive_bayes import GaussianNB"
   ]
  },
  {
   "cell_type": "code",
   "execution_count": 49,
   "id": "80e7e532",
   "metadata": {},
   "outputs": [],
   "source": [
    "pipe = Pipeline([\n",
    "    ('scaler', StandardScaler()),\n",
    "    ('class', GaussianNB())\n",
    "])\n",
    "\n",
    "# the var smoothing helps tackle the problem of zero probability\n",
    "\n",
    "grid = [{\n",
    "    'scaler': [StandardScaler(), MinMaxScaler()],\n",
    "    'class__var_smoothing': [1e-11, 1e-10, 1e-9]\n",
    "}]\n",
    "\n",
    "gridsearch_NB = GridSearchCV(estimator=pipe,\n",
    "                         param_grid=grid,\n",
    "                         scoring='accuracy',\n",
    "                         cv=10)"
   ]
  },
  {
   "cell_type": "code",
   "execution_count": 50,
   "id": "ab43cd29",
   "metadata": {},
   "outputs": [
    {
     "data": {
      "text/plain": [
       "GridSearchCV(cv=10,\n",
       "             estimator=Pipeline(steps=[('scaler', StandardScaler()),\n",
       "                                       ('class', GaussianNB())]),\n",
       "             param_grid=[{'class__var_smoothing': [1e-11, 1e-10, 1e-09],\n",
       "                          'scaler': [StandardScaler(), MinMaxScaler()]}],\n",
       "             scoring='accuracy')"
      ]
     },
     "execution_count": 50,
     "metadata": {},
     "output_type": "execute_result"
    }
   ],
   "source": [
    "gridsearch_NB.fit(X_train, y_train)"
   ]
  },
  {
   "cell_type": "markdown",
   "id": "1d924b8d",
   "metadata": {},
   "source": [
    "## 5. Evaluation"
   ]
  },
  {
   "cell_type": "code",
   "execution_count": 51,
   "id": "dbe8a76f",
   "metadata": {},
   "outputs": [
    {
     "name": "stdout",
     "output_type": "stream",
     "text": [
      "The best score of the grid search with different hyperparams: \n",
      "0.7389242480968427\n"
     ]
    }
   ],
   "source": [
    "print(f'The best score of the grid search with different hyperparams: \\n{gridsearch_NB.score(X_test, y_test)}')"
   ]
  },
  {
   "cell_type": "code",
   "execution_count": 52,
   "id": "5a42b31c",
   "metadata": {},
   "outputs": [
    {
     "data": {
      "image/png": "[encoded data removed]",
      "text/plain": [
       "<Figure size 432x288 with 2 Axes>"
      ]
     },
     "metadata": {
      "needs_background": "light"
     },
     "output_type": "display_data"
    }
   ],
   "source": [
    "# confusion matrix\n",
    "confusionMat(X_test, gridsearch_NB, y_test)"
   ]
  },
  {
   "cell_type": "code",
   "execution_count": 53,
   "id": "36c8b121",
   "metadata": {},
   "outputs": [
    {
     "name": "stdout",
     "output_type": "stream",
     "text": [
      "Precision score:  0.71\n",
      "Recall score:  0.72\n",
      "Accuracy score:  0.74\n",
      "F1 score:  0.72\n"
     ]
    }
   ],
   "source": [
    "# Getting the eval metrics\n",
    "y_pred_nb = gridsearch_NB.predict(X_test)\n",
    "modelScores(y_test, y_pred_nb)"
   ]
  },
  {
   "cell_type": "code",
   "execution_count": 54,
   "id": "7cd75aac",
   "metadata": {},
   "outputs": [
    {
     "data": {
      "image/png": "[encoded data removed]",
      "text/plain": [
       "<Figure size 432x288 with 1 Axes>"
      ]
     },
     "metadata": {
      "needs_background": "light"
     },
     "output_type": "display_data"
    }
   ],
   "source": [
    "# ROC Curve\n",
    "roc_curveDiagram(y_test, y_pred_nb, 'Gaussian NB')"
   ]
  },
  {
   "cell_type": "markdown",
   "id": "366be205",
   "metadata": {},
   "source": [
    "## 6. Conclusion"
   ]
  },
  {
   "cell_type": "markdown",
   "id": "a0158674",
   "metadata": {},
   "source": [
    "Given that the data was balanced, the initial design was to go for accuracy. \n",
    "\n",
    "However, with knowledge of the ROC (Receiver Operating Characteristic) curve, I believe that is a better overall metric to use for the models above performance. ROC tells how much the model is able to distinguish between the classes.\n",
    "\n",
    "\n",
    "The best performing model is the Logistic Regression with an AUC of 0.78 which can be considered 0.8 when rounded of to the nearest 1 decimal place. I believe that this represents it as a good performing model, however, not superb or excellent.\n",
    "\n",
    "That is not very ideal when dealing with hospital data as we are here, but, it is performing well enough to consider better performance model strategies in future, such as, ensembling which would most likely beat this performance."
   ]
  },
  {
   "cell_type": "code",
   "execution_count": null,
   "id": "56c08a93",
   "metadata": {},
   "outputs": [],
   "source": []
  }
 ],
 "metadata": {
  "kernelspec": {
   "display_name": "Python 3 (ipykernel)",
   "language": "python",
   "name": "python3"
  },
  "language_info": {
   "codemirror_mode": {
    "name": "ipython",
    "version": 3
   },
   "file_extension": ".py",
   "mimetype": "text/x-python",
   "name": "python",
   "nbconvert_exporter": "python",
   "pygments_lexer": "ipython3",
   "version": "3.9.12"
  }
 },
 "nbformat": 4,
 "nbformat_minor": 5
}
